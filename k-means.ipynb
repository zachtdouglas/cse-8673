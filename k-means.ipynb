{
 "cells": [
  {
   "cell_type": "markdown",
   "metadata": {
    "id": "JycvLj34wMvD"
   },
   "source": [
    "## CSE 8673: Machine Learning\n",
    "## Homework 2\n",
    "## Zach Douglas"
   ]
  },
  {
   "cell_type": "markdown",
   "metadata": {
    "id": "B0_lskpSwzy-"
   },
   "source": [
    "Read training and label data, convert data from string to array of integers."
   ]
  },
  {
   "cell_type": "code",
   "execution_count": 7,
   "metadata": {
    "executionInfo": {
     "elapsed": 179,
     "status": "ok",
     "timestamp": 1631337474833,
     "user": {
      "displayName": "Zach Douglas",
      "photoUrl": "https://lh3.googleusercontent.com/a-/AOh14GiAbkaAtzVl5Ndm8rKv4dXgg1pAMlc_o-DQ7Flp4g=s64",
      "userId": "03857432897192807346"
     },
     "user_tz": 240
    },
    "id": "LSFohvFAUtgk"
   },
   "outputs": [],
   "source": [
    "with open('mnist_data.txt') as f:\n",
    "    images = f.readlines()\n",
    "\n",
    "with open('mnist_labels.txt') as f:\n",
    "    labels = f.readlines()"
   ]
  },
  {
   "cell_type": "code",
   "execution_count": 8,
   "metadata": {
    "executionInfo": {
     "elapsed": 5120,
     "status": "ok",
     "timestamp": 1631337479949,
     "user": {
      "displayName": "Zach Douglas",
      "photoUrl": "https://lh3.googleusercontent.com/a-/AOh14GiAbkaAtzVl5Ndm8rKv4dXgg1pAMlc_o-DQ7Flp4g=s64",
      "userId": "03857432897192807346"
     },
     "user_tz": 240
    },
    "id": "N-btY6gILO5f"
   },
   "outputs": [],
   "source": [
    "for digit in images:\n",
    "    images[images.index(digit)] = [int(pixels) for pixels in digit.split()]\n",
    "    \n",
    "for string in labels:\n",
    "    labels[labels.index(string)] = int(labels[labels.index(string)])"
   ]
  },
  {
   "cell_type": "markdown",
   "metadata": {
    "id": "IpObu2HhxIiD"
   },
   "source": [
    "Import modules for the following functions."
   ]
  },
  {
   "cell_type": "code",
   "execution_count": 9,
   "metadata": {
    "executionInfo": {
     "elapsed": 23,
     "status": "ok",
     "timestamp": 1631337479955,
     "user": {
      "displayName": "Zach Douglas",
      "photoUrl": "https://lh3.googleusercontent.com/a-/AOh14GiAbkaAtzVl5Ndm8rKv4dXgg1pAMlc_o-DQ7Flp4g=s64",
      "userId": "03857432897192807346"
     },
     "user_tz": 240
    },
    "id": "Fo74YWR-U5eV"
   },
   "outputs": [],
   "source": [
    "from random import randint\n",
    "from random import choice\n",
    "from statistics import mode"
   ]
  },
  {
   "cell_type": "markdown",
   "metadata": {
    "id": "scgWwwu7yi0X"
   },
   "source": [
    "Function to return the Euclidean distance between two vectors of magnitude 784."
   ]
  },
  {
   "cell_type": "code",
   "execution_count": 10,
   "metadata": {
    "executionInfo": {
     "elapsed": 22,
     "status": "ok",
     "timestamp": 1631337479956,
     "user": {
      "displayName": "Zach Douglas",
      "photoUrl": "https://lh3.googleusercontent.com/a-/AOh14GiAbkaAtzVl5Ndm8rKv4dXgg1pAMlc_o-DQ7Flp4g=s64",
      "userId": "03857432897192807346"
     },
     "user_tz": 240
    },
    "id": "SzkP1JdBiWXb"
   },
   "outputs": [],
   "source": [
    "def distance(sample, centroid):\n",
    "    temp = []\n",
    "    \n",
    "    for i in range(0, 784):\n",
    "        difference = centroid[i] - sample[i]\n",
    "        sq_diff = difference**2\n",
    "        temp.append(sq_diff)\n",
    "        \n",
    "    total = sum(temp)\n",
    "    \n",
    "    return total**0.5"
   ]
  },
  {
   "cell_type": "markdown",
   "metadata": {
    "id": "yR4CyTjlzNHa"
   },
   "source": [
    "Function to return the mean of an array of vectors of magnitude 784."
   ]
  },
  {
   "cell_type": "code",
   "execution_count": 11,
   "metadata": {
    "executionInfo": {
     "elapsed": 22,
     "status": "ok",
     "timestamp": 1631337479956,
     "user": {
      "displayName": "Zach Douglas",
      "photoUrl": "https://lh3.googleusercontent.com/a-/AOh14GiAbkaAtzVl5Ndm8rKv4dXgg1pAMlc_o-DQ7Flp4g=s64",
      "userId": "03857432897192807346"
     },
     "user_tz": 240
    },
    "id": "oOmCiPPjnyPP"
   },
   "outputs": [],
   "source": [
    "def mean(cluster):\n",
    "    cluster_mean = []\n",
    "    cluster_sum = [sum(pixels) for pixels in zip(*cluster)]\n",
    "    cluster_length = 784\n",
    "\n",
    "    for i in range(0, cluster_length):\n",
    "        cluster_mean.append(cluster_sum[i]/len(cluster))\n",
    "\n",
    "    return cluster_mean"
   ]
  },
  {
   "cell_type": "markdown",
   "metadata": {
    "id": "3kmjUb2GzfcZ"
   },
   "source": [
    "K-means Algorithm"
   ]
  },
  {
   "cell_type": "code",
   "execution_count": 6,
   "metadata": {
    "executionInfo": {
     "elapsed": 23,
     "status": "ok",
     "timestamp": 1631337479957,
     "user": {
      "displayName": "Zach Douglas",
      "photoUrl": "https://lh3.googleusercontent.com/a-/AOh14GiAbkaAtzVl5Ndm8rKv4dXgg1pAMlc_o-DQ7Flp4g=s64",
      "userId": "03857432897192807346"
     },
     "user_tz": 240
    },
    "id": "-eNupRj2M0kU"
   },
   "outputs": [],
   "source": [
    "def k_means(data, k):\n",
    "    centroid_history = [[]]\n",
    "    centroid_list = []\n",
    "\n",
    "    for i in range (0, k):\n",
    "        random_sample = randint(0, len(data))\n",
    "        centroid_list.append(data[random_sample])\n",
    "        centroid_history[0].append(data[random_sample])\n",
    "  \n",
    "    while (len(centroid_history) == 1 or centroid_history[-1]!=centroid_history[-2]):\n",
    "        centroid_assignment = []\n",
    "        \n",
    "        for i in range(0, len(data)):\n",
    "            dist_list = []\n",
    "\n",
    "            for j in range(0, len(centroid_list)):\n",
    "                dist = distance(centroid_list[j], data[i])\n",
    "                dist_list.append(dist)\n",
    "\n",
    "            closest_dist = min(dist_list)\n",
    "            index_of_closest_centroid = dist_list.index(closest_dist)\n",
    "            closest_centroid = centroid_list[index_of_closest_centroid]\n",
    "\n",
    "            centroid_assignment.append(centroid_list.index(closest_centroid))\n",
    "      \n",
    "        for i in range(0, len(centroid_list)):\n",
    "            cluster_list = []\n",
    "        \n",
    "            for j in range(0, len(centroid_assignment)):\n",
    "                if centroid_assignment[j] == i:\n",
    "                    cluster_list.append(data[j])\n",
    "    \n",
    "            if len(cluster_list) > 0:\n",
    "                cluster_mean = mean(cluster_list)\n",
    "                centroid_list[i] = cluster_mean\n",
    "    \n",
    "        centroid_history.append(centroid_list.copy())\n",
    "\n",
    "    return centroid_assignment, centroid_history"
   ]
  },
  {
   "cell_type": "markdown",
   "metadata": {
    "id": "-ohabBrozupO"
   },
   "source": [
    "Function to return a nested array of length 10 (one item for each cluster). Each item in the array contains a list of indices for the respective cluster label."
   ]
  },
  {
   "cell_type": "code",
   "execution_count": 12,
   "metadata": {
    "executionInfo": {
     "elapsed": 22,
     "status": "ok",
     "timestamp": 1631337479957,
     "user": {
      "displayName": "Zach Douglas",
      "photoUrl": "https://lh3.googleusercontent.com/a-/AOh14GiAbkaAtzVl5Ndm8rKv4dXgg1pAMlc_o-DQ7Flp4g=s64",
      "userId": "03857432897192807346"
     },
     "user_tz": 240
    },
    "id": "0g3To9Eu25BN"
   },
   "outputs": [],
   "source": [
    "def get_indices_10(assignments):\n",
    "    indices = [[],[],[],[],[],[],[],[],[],[]]\n",
    "\n",
    "    for i in range(0, len(assignments)):\n",
    "        if assignments[i] == 0:\n",
    "            indices[0].append(i)\n",
    "        elif assignments[i] == 1:\n",
    "            indices[1].append(i)\n",
    "        elif assignments[i] == 2:\n",
    "            indices[2].append(i)\n",
    "        elif assignments[i] == 3:\n",
    "            indices[3].append(i)\n",
    "        elif assignments[i] == 4:\n",
    "            indices[4].append(i)\n",
    "        elif assignments[i] == 5:\n",
    "            indices[5].append(i)\n",
    "        elif assignments[i] == 6:\n",
    "            indices[6].append(i)\n",
    "        elif assignments[i] == 7:\n",
    "            indices[7].append(i)\n",
    "        elif assignments[i] == 8:\n",
    "            indices[8].append(i)\n",
    "        elif assignments[i] == 9:\n",
    "            indices[9].append(i)\n",
    "            \n",
    "    return indices"
   ]
  },
  {
   "cell_type": "markdown",
   "metadata": {
    "id": "nEhWTMH60jxG"
   },
   "source": [
    "Function to return the number of samples which do not have the label of the majority (number of minority samples)."
   ]
  },
  {
   "cell_type": "code",
   "execution_count": 13,
   "metadata": {
    "executionInfo": {
     "elapsed": 22,
     "status": "ok",
     "timestamp": 1631337479958,
     "user": {
      "displayName": "Zach Douglas",
      "photoUrl": "https://lh3.googleusercontent.com/a-/AOh14GiAbkaAtzVl5Ndm8rKv4dXgg1pAMlc_o-DQ7Flp4g=s64",
      "userId": "03857432897192807346"
     },
     "user_tz": 240
    },
    "id": "VHfosETT4NdG"
   },
   "outputs": [],
   "source": [
    "def num_minorities(k_indices, original_labels):\n",
    "    cluster_labels = []\n",
    "    sum = 0\n",
    "    for index in k_indices:\n",
    "        cluster_labels.append(original_labels[index])\n",
    "\n",
    "    cluster_mode = mode(cluster_labels)\n",
    "\n",
    "    not_mode = 0\n",
    "    for label in cluster_labels:\n",
    "        if label != cluster_mode:\n",
    "            not_mode += 1\n",
    "\n",
    "    return not_mode"
   ]
  },
  {
   "cell_type": "markdown",
   "metadata": {
    "id": "6n78ANUK05qq"
   },
   "source": [
    "Function to return the sum of minority samples across 10 clusters."
   ]
  },
  {
   "cell_type": "code",
   "execution_count": 14,
   "metadata": {
    "executionInfo": {
     "elapsed": 21,
     "status": "ok",
     "timestamp": 1631337479958,
     "user": {
      "displayName": "Zach Douglas",
      "photoUrl": "https://lh3.googleusercontent.com/a-/AOh14GiAbkaAtzVl5Ndm8rKv4dXgg1pAMlc_o-DQ7Flp4g=s64",
      "userId": "03857432897192807346"
     },
     "user_tz": 240
    },
    "id": "mX5pTnOgAzx9"
   },
   "outputs": [],
   "source": [
    "def minority_sum(all_indices, original_labels):\n",
    "    total = 0\n",
    "    \n",
    "    for i in range(0, 10):\n",
    "        total += num_minorities(all_indices[i], original_labels)\n",
    "\n",
    "    return total"
   ]
  },
  {
   "cell_type": "markdown",
   "metadata": {
    "id": "UEGSLJ5G1LxT"
   },
   "source": [
    "Run K-mean algorithm for K=10 for 10 iterations, calculate average minority samples and average iterations required for algorithm to converge."
   ]
  },
  {
   "cell_type": "code",
   "execution_count": 10,
   "metadata": {
    "executionInfo": {
     "elapsed": 21,
     "status": "ok",
     "timestamp": 1631337479958,
     "user": {
      "displayName": "Zach Douglas",
      "photoUrl": "https://lh3.googleusercontent.com/a-/AOh14GiAbkaAtzVl5Ndm8rKv4dXgg1pAMlc_o-DQ7Flp4g=s64",
      "userId": "03857432897192807346"
     },
     "user_tz": 240
    },
    "id": "_q-JCXDUN5W7"
   },
   "outputs": [],
   "source": [
    "all_sums = []\n",
    "num_convergences = []"
   ]
  },
  {
   "cell_type": "code",
   "execution_count": 11,
   "metadata": {
    "id": "N8mw3KHpSPTo"
   },
   "outputs": [],
   "source": [
    "for i in range(0, 10):\n",
    "    assignments, hist = k_means(images, 10)\n",
    "    indices = get_indices_10(assignments)\n",
    "    all_sums.append(minority_sum(indices, labels))\n",
    "    num_convergences.append(len(hist))"
   ]
  },
  {
   "cell_type": "code",
   "execution_count": 12,
   "metadata": {
    "colab": {
     "base_uri": "https://localhost:8080/",
     "height": 164
    },
    "executionInfo": {
     "elapsed": 158,
     "status": "error",
     "timestamp": 1631371296919,
     "user": {
      "displayName": "Zach Douglas",
      "photoUrl": "https://lh3.googleusercontent.com/a-/AOh14GiAbkaAtzVl5Ndm8rKv4dXgg1pAMlc_o-DQ7Flp4g=s64",
      "userId": "03857432897192807346"
     },
     "user_tz": 240
    },
    "id": "nQBickRkOa5R",
    "outputId": "51f51036-360b-4fa8-bf2e-e1ecade09545"
   },
   "outputs": [
    {
     "name": "stdout",
     "output_type": "stream",
     "text": [
      "[4075, 4062, 3725, 4685, 3920, 4163, 3950, 3952, 3965, 4031] [30, 71, 68, 98, 35, 33, 70, 102, 55, 60]\n"
     ]
    }
   ],
   "source": [
    "print(all_sums, num_convergences)"
   ]
  },
  {
   "cell_type": "code",
   "execution_count": 13,
   "metadata": {
    "id": "Zt_4TA_WTovt"
   },
   "outputs": [
    {
     "name": "stdout",
     "output_type": "stream",
     "text": [
      "405.28 62.2\n"
     ]
    }
   ],
   "source": [
    "mean_wrong_cluster = sum(all_sums)/100\n",
    "mean_num_convergences = sum(num_convergences)/10\n",
    "print(mean_wrong_cluster, mean_num_convergences)"
   ]
  },
  {
   "cell_type": "markdown",
   "metadata": {
    "id": "pRh6amQS2MBO"
   },
   "source": [
    "Alter previous function to return indices when K=5."
   ]
  },
  {
   "cell_type": "code",
   "execution_count": 14,
   "metadata": {
    "id": "UKRwv6IPbR1m"
   },
   "outputs": [],
   "source": [
    "def get_indices_5(assignments):\n",
    "    indices = [[],[],[],[],[]]\n",
    "\n",
    "    for i in range(0, len(assignments)):\n",
    "        if assignments[i] == 0:\n",
    "            indices[0].append(i)\n",
    "        elif assignments[i] == 1:\n",
    "            indices[1].append(i)\n",
    "        elif assignments[i] == 2:\n",
    "            indices[2].append(i)\n",
    "        elif assignments[i] == 3:\n",
    "            indices[3].append(i)\n",
    "        elif assignments[i] == 4:\n",
    "            indices[4].append(i)\n",
    "      \n",
    "    return indices"
   ]
  },
  {
   "cell_type": "markdown",
   "metadata": {
    "id": "GJYevSu22YY4"
   },
   "source": [
    "Function to return a dictionary, keys are the hand-written digits (0-9), values are how many of that digit are in the cluster."
   ]
  },
  {
   "cell_type": "code",
   "execution_count": 18,
   "metadata": {
    "id": "8p3ix0l4ajiN"
   },
   "outputs": [],
   "source": [
    "def digit_count(k_indices, original_labels):\n",
    "    cluster_labels = []\n",
    "    digit_count = {}\n",
    "    sum = 0\n",
    "    \n",
    "    for index in k_indices:\n",
    "        cluster_labels.append(original_labels[index])\n",
    "\n",
    "    for i in range(0, 10):\n",
    "        digit_count[i] = cluster_labels.count(i)\n",
    "\n",
    "    return digit_count"
   ]
  },
  {
   "cell_type": "markdown",
   "metadata": {
    "id": "uqUk340s5XYQ"
   },
   "source": [
    "Running K-means algorithm again, this time with K=5."
   ]
  },
  {
   "cell_type": "code",
   "execution_count": 16,
   "metadata": {
    "id": "h3SXGOGXYQ7p"
   },
   "outputs": [],
   "source": [
    "assignments, hist = k_means(images, 5)"
   ]
  },
  {
   "cell_type": "code",
   "execution_count": 17,
   "metadata": {
    "id": "i1kHaw-AeD7-"
   },
   "outputs": [],
   "source": [
    "indices = get_indices_5(assignments)"
   ]
  },
  {
   "cell_type": "markdown",
   "metadata": {
    "id": "hP58JzZ85du1"
   },
   "source": [
    "Showing the counts of each digit for each cluster."
   ]
  },
  {
   "cell_type": "code",
   "execution_count": 18,
   "metadata": {
    "id": "hHQ9SA9EeWEe",
    "scrolled": true
   },
   "outputs": [
    {
     "data": {
      "text/plain": [
       "{0: 26, 1: 2, 2: 30, 3: 54, 4: 338, 5: 216, 6: 1, 7: 598, 8: 336, 9: 386}"
      ]
     },
     "execution_count": 18,
     "metadata": {},
     "output_type": "execute_result"
    }
   ],
   "source": [
    "digit_count(indices[0], labels)"
   ]
  },
  {
   "cell_type": "code",
   "execution_count": 19,
   "metadata": {
    "id": "Nuiah756fET2"
   },
   "outputs": [
    {
     "data": {
      "text/plain": [
       "{0: 112, 1: 3, 2: 625, 3: 19, 4: 45, 5: 24, 6: 819, 7: 7, 8: 30, 9: 15}"
      ]
     },
     "execution_count": 19,
     "metadata": {},
     "output_type": "execute_result"
    }
   ],
   "source": [
    "digit_count(indices[1], labels)"
   ]
  },
  {
   "cell_type": "code",
   "execution_count": 20,
   "metadata": {
    "id": "FChBTnQKfENN"
   },
   "outputs": [
    {
     "data": {
      "text/plain": [
       "{0: 3, 1: 0, 2: 21, 3: 52, 4: 557, 5: 77, 6: 9, 7: 333, 8: 88, 9: 564}"
      ]
     },
     "execution_count": 20,
     "metadata": {},
     "output_type": "execute_result"
    }
   ],
   "source": [
    "digit_count(indices[2], labels)"
   ]
  },
  {
   "cell_type": "code",
   "execution_count": 21,
   "metadata": {
    "id": "0vsEWECFfEIJ"
   },
   "outputs": [
    {
     "data": {
      "text/plain": [
       "{0: 829, 1: 2, 2: 88, 3: 655, 4: 0, 5: 436, 6: 34, 7: 0, 8: 256, 9: 15}"
      ]
     },
     "execution_count": 21,
     "metadata": {},
     "output_type": "execute_result"
    }
   ],
   "source": [
    "digit_count(indices[3], labels)"
   ]
  },
  {
   "cell_type": "code",
   "execution_count": 22,
   "metadata": {
    "id": "o6U4gRZ_fD0Z",
    "scrolled": true
   },
   "outputs": [
    {
     "data": {
      "text/plain": [
       "{0: 10, 1: 1128, 2: 268, 3: 230, 4: 42, 5: 139, 6: 95, 7: 90, 8: 264, 9: 29}"
      ]
     },
     "execution_count": 22,
     "metadata": {},
     "output_type": "execute_result"
    }
   ],
   "source": [
    "digit_count(indices[4], labels)"
   ]
  },
  {
   "cell_type": "markdown",
   "metadata": {
    "id": "AMDX5SQU59_u"
   },
   "source": [
    "Reinitialize centroids for K-means Algorithm"
   ]
  },
  {
   "cell_type": "code",
   "execution_count": 5,
   "metadata": {
    "id": "-lU-nt97564B"
   },
   "outputs": [],
   "source": [
    "from tqdm import tqdm\n",
    "\n",
    "def k_means(data, k, original_labels):\n",
    "    centroid_history = [[]]\n",
    "    centroid_list = []\n",
    "\n",
    "    label_indices = get_indices_10(original_labels)\n",
    "  \n",
    "    for i in range(0, k):\n",
    "        random_index = choice(label_indices[i])\n",
    "        centroid_list.append(data[random_index])\n",
    "        centroid_history[0].append(data[random_index])\n",
    "  \n",
    "    while (len(centroid_history) == 1 or centroid_history[-1]!=centroid_history[-2]):\n",
    "        centroid_assignment = []\n",
    "        \n",
    "        for i in tqdm(range(0, len(data))):\n",
    "            dist_list = []\n",
    "\n",
    "            for j in range(0, len(centroid_list)):\n",
    "                dist = distance(centroid_list[j], data[i])\n",
    "                dist_list.append(dist)\n",
    "\n",
    "            closest_dist = min(dist_list)\n",
    "            index_of_closest_centroid = dist_list.index(closest_dist)\n",
    "            closest_centroid = centroid_list[index_of_closest_centroid]\n",
    "\n",
    "            centroid_assignment.append(centroid_list.index(closest_centroid))\n",
    "      \n",
    "        for i in tqdm(range(0, len(centroid_list))):\n",
    "            cluster_list = []\n",
    "\n",
    "            for j in range(0, len(centroid_assignment)):\n",
    "                if centroid_assignment[j] == i:\n",
    "                    cluster_list.append(data[j])\n",
    "    \n",
    "            if len(cluster_list) > 0:\n",
    "                cluster_mean = mean(cluster_list)\n",
    "                centroid_list[i] = cluster_mean\n",
    "    \n",
    "        centroid_history.append(centroid_list.copy())\n",
    "    \n",
    "    return centroid_assignment, centroid_history"
   ]
  },
  {
   "cell_type": "markdown",
   "metadata": {
    "id": "Nk1sKgL3_nPD"
   },
   "source": [
    "Re-run K-mean algorithm for K=10 for 10 iterations (this time with centroids initialized for digits 0-9), calculate average minority samples and average iterations required for algorithm to converge."
   ]
  },
  {
   "cell_type": "code",
   "execution_count": 24,
   "metadata": {
    "id": "F1jimAWp6TDc"
   },
   "outputs": [],
   "source": [
    "all_sums = []\n",
    "num_convergences = []"
   ]
  },
  {
   "cell_type": "code",
   "execution_count": 25,
   "metadata": {
    "id": "tqVVEP2T6ROX"
   },
   "outputs": [],
   "source": [
    "for i in range(0, 10):\n",
    "    assignments, hist = k_means(images, 10, labels)\n",
    "    indices = get_indices_10(assignments)\n",
    "    all_sums.append(minority_sum(indices, labels))\n",
    "    num_convergences.append(len(hist))"
   ]
  },
  {
   "cell_type": "code",
   "execution_count": 26,
   "metadata": {
    "id": "SwHJrmPe_Enz"
   },
   "outputs": [
    {
     "name": "stdout",
     "output_type": "stream",
     "text": [
      "[4015, 4599, 3645, 3899, 3574, 4074, 4089, 3946, 3958, 3655] [40, 28, 32, 49, 35, 46, 33, 55, 65, 51]\n"
     ]
    }
   ],
   "source": [
    "print(all_sums, num_convergences)"
   ]
  },
  {
   "cell_type": "code",
   "execution_count": 27,
   "metadata": {
    "id": "vEgjxtRl6inc"
   },
   "outputs": [
    {
     "name": "stdout",
     "output_type": "stream",
     "text": [
      "394.54 43.4\n"
     ]
    }
   ],
   "source": [
    "mean_wrong_cluster = sum(all_sums)/100\n",
    "mean_num_convergences = sum(num_convergences)/10\n",
    "print(mean_wrong_cluster, mean_num_convergences)"
   ]
  },
  {
   "cell_type": "code",
   "execution_count": 15,
   "metadata": {
    "id": "h3SXGOGXYQ7p"
   },
   "outputs": [
    {
     "name": "stderr",
     "output_type": "stream",
     "text": [
      "100%|███████████████████████████████████████████████████████████████████████████| 10000/10000 [00:24<00:00, 409.67it/s]\n",
      "100%|██████████████████████████████████████████████████████████████████████████████████| 10/10 [00:00<00:00, 46.98it/s]\n",
      "100%|███████████████████████████████████████████████████████████████████████████| 10000/10000 [00:22<00:00, 452.11it/s]\n",
      "100%|██████████████████████████████████████████████████████████████████████████████████| 10/10 [00:00<00:00, 52.23it/s]\n",
      "100%|███████████████████████████████████████████████████████████████████████████| 10000/10000 [00:22<00:00, 447.51it/s]\n",
      "100%|██████████████████████████████████████████████████████████████████████████████████| 10/10 [00:00<00:00, 50.65it/s]\n",
      "100%|███████████████████████████████████████████████████████████████████████████| 10000/10000 [00:22<00:00, 451.76it/s]\n",
      "100%|██████████████████████████████████████████████████████████████████████████████████| 10/10 [00:00<00:00, 49.11it/s]\n",
      "100%|███████████████████████████████████████████████████████████████████████████| 10000/10000 [00:21<00:00, 466.87it/s]\n",
      "100%|██████████████████████████████████████████████████████████████████████████████████| 10/10 [00:00<00:00, 51.88it/s]\n",
      "100%|███████████████████████████████████████████████████████████████████████████| 10000/10000 [00:21<00:00, 470.21it/s]\n",
      "100%|██████████████████████████████████████████████████████████████████████████████████| 10/10 [00:00<00:00, 52.91it/s]\n",
      "100%|███████████████████████████████████████████████████████████████████████████| 10000/10000 [00:21<00:00, 459.93it/s]\n",
      "100%|██████████████████████████████████████████████████████████████████████████████████| 10/10 [00:00<00:00, 52.92it/s]\n",
      "100%|███████████████████████████████████████████████████████████████████████████| 10000/10000 [00:21<00:00, 470.90it/s]\n",
      "100%|██████████████████████████████████████████████████████████████████████████████████| 10/10 [00:00<00:00, 53.34it/s]\n",
      "100%|███████████████████████████████████████████████████████████████████████████| 10000/10000 [00:20<00:00, 480.63it/s]\n",
      "100%|██████████████████████████████████████████████████████████████████████████████████| 10/10 [00:00<00:00, 52.79it/s]\n",
      "100%|███████████████████████████████████████████████████████████████████████████| 10000/10000 [00:21<00:00, 471.90it/s]\n",
      "100%|██████████████████████████████████████████████████████████████████████████████████| 10/10 [00:00<00:00, 45.19it/s]\n",
      "100%|███████████████████████████████████████████████████████████████████████████| 10000/10000 [00:20<00:00, 481.79it/s]\n",
      "100%|██████████████████████████████████████████████████████████████████████████████████| 10/10 [00:00<00:00, 53.26it/s]\n",
      "100%|███████████████████████████████████████████████████████████████████████████| 10000/10000 [00:20<00:00, 477.02it/s]\n",
      "100%|██████████████████████████████████████████████████████████████████████████████████| 10/10 [00:00<00:00, 56.75it/s]\n",
      "100%|███████████████████████████████████████████████████████████████████████████| 10000/10000 [00:20<00:00, 483.77it/s]\n",
      "100%|██████████████████████████████████████████████████████████████████████████████████| 10/10 [00:00<00:00, 53.10it/s]\n",
      "100%|███████████████████████████████████████████████████████████████████████████| 10000/10000 [00:20<00:00, 487.80it/s]\n",
      "100%|██████████████████████████████████████████████████████████████████████████████████| 10/10 [00:00<00:00, 54.78it/s]\n",
      "100%|███████████████████████████████████████████████████████████████████████████| 10000/10000 [00:20<00:00, 478.53it/s]\n",
      "100%|██████████████████████████████████████████████████████████████████████████████████| 10/10 [00:00<00:00, 57.17it/s]\n",
      "100%|███████████████████████████████████████████████████████████████████████████| 10000/10000 [00:20<00:00, 480.27it/s]\n",
      "100%|██████████████████████████████████████████████████████████████████████████████████| 10/10 [00:00<00:00, 52.61it/s]\n",
      "100%|███████████████████████████████████████████████████████████████████████████| 10000/10000 [00:20<00:00, 476.86it/s]\n",
      "100%|██████████████████████████████████████████████████████████████████████████████████| 10/10 [00:00<00:00, 53.25it/s]\n",
      "100%|███████████████████████████████████████████████████████████████████████████| 10000/10000 [00:21<00:00, 471.87it/s]\n",
      "100%|██████████████████████████████████████████████████████████████████████████████████| 10/10 [00:00<00:00, 56.05it/s]\n",
      "100%|███████████████████████████████████████████████████████████████████████████| 10000/10000 [00:21<00:00, 473.62it/s]\n",
      "100%|██████████████████████████████████████████████████████████████████████████████████| 10/10 [00:00<00:00, 54.50it/s]\n",
      "100%|███████████████████████████████████████████████████████████████████████████| 10000/10000 [00:20<00:00, 481.31it/s]\n",
      "100%|██████████████████████████████████████████████████████████████████████████████████| 10/10 [00:00<00:00, 53.63it/s]\n",
      "100%|███████████████████████████████████████████████████████████████████████████| 10000/10000 [00:20<00:00, 479.77it/s]\n",
      "100%|██████████████████████████████████████████████████████████████████████████████████| 10/10 [00:00<00:00, 53.67it/s]\n",
      "100%|███████████████████████████████████████████████████████████████████████████| 10000/10000 [00:20<00:00, 477.77it/s]\n",
      "100%|██████████████████████████████████████████████████████████████████████████████████| 10/10 [00:00<00:00, 54.07it/s]\n",
      "100%|███████████████████████████████████████████████████████████████████████████| 10000/10000 [00:21<00:00, 473.77it/s]\n",
      "100%|██████████████████████████████████████████████████████████████████████████████████| 10/10 [00:00<00:00, 55.81it/s]\n",
      "100%|███████████████████████████████████████████████████████████████████████████| 10000/10000 [00:21<00:00, 475.11it/s]\n",
      "100%|██████████████████████████████████████████████████████████████████████████████████| 10/10 [00:00<00:00, 55.82it/s]\n",
      "100%|███████████████████████████████████████████████████████████████████████████| 10000/10000 [00:21<00:00, 465.54it/s]\n",
      "100%|██████████████████████████████████████████████████████████████████████████████████| 10/10 [00:00<00:00, 55.08it/s]\n",
      "100%|███████████████████████████████████████████████████████████████████████████| 10000/10000 [00:20<00:00, 486.18it/s]\n",
      "100%|██████████████████████████████████████████████████████████████████████████████████| 10/10 [00:00<00:00, 50.54it/s]\n",
      "100%|███████████████████████████████████████████████████████████████████████████| 10000/10000 [00:21<00:00, 465.92it/s]\n",
      "100%|██████████████████████████████████████████████████████████████████████████████████| 10/10 [00:00<00:00, 53.15it/s]\n",
      "100%|███████████████████████████████████████████████████████████████████████████| 10000/10000 [00:21<00:00, 475.54it/s]\n",
      "100%|██████████████████████████████████████████████████████████████████████████████████| 10/10 [00:00<00:00, 56.00it/s]\n",
      "100%|███████████████████████████████████████████████████████████████████████████| 10000/10000 [00:20<00:00, 479.66it/s]\n",
      "100%|██████████████████████████████████████████████████████████████████████████████████| 10/10 [00:00<00:00, 59.13it/s]\n",
      "100%|███████████████████████████████████████████████████████████████████████████| 10000/10000 [00:21<00:00, 467.95it/s]\n",
      "100%|██████████████████████████████████████████████████████████████████████████████████| 10/10 [00:00<00:00, 55.83it/s]\n",
      "100%|███████████████████████████████████████████████████████████████████████████| 10000/10000 [00:20<00:00, 487.80it/s]\n",
      "100%|██████████████████████████████████████████████████████████████████████████████████| 10/10 [00:00<00:00, 57.31it/s]\n",
      "100%|███████████████████████████████████████████████████████████████████████████| 10000/10000 [00:21<00:00, 474.51it/s]\n",
      "100%|██████████████████████████████████████████████████████████████████████████████████| 10/10 [00:00<00:00, 48.24it/s]\n",
      "100%|███████████████████████████████████████████████████████████████████████████| 10000/10000 [00:21<00:00, 465.24it/s]\n",
      "100%|██████████████████████████████████████████████████████████████████████████████████| 10/10 [00:00<00:00, 52.65it/s]\n",
      "100%|███████████████████████████████████████████████████████████████████████████| 10000/10000 [00:21<00:00, 470.30it/s]\n",
      "100%|██████████████████████████████████████████████████████████████████████████████████| 10/10 [00:00<00:00, 51.38it/s]\n"
     ]
    },
    {
     "name": "stderr",
     "output_type": "stream",
     "text": [
      "100%|███████████████████████████████████████████████████████████████████████████| 10000/10000 [00:21<00:00, 468.26it/s]\n",
      "100%|██████████████████████████████████████████████████████████████████████████████████| 10/10 [00:00<00:00, 52.20it/s]\n",
      "100%|███████████████████████████████████████████████████████████████████████████| 10000/10000 [00:21<00:00, 458.93it/s]\n",
      "100%|██████████████████████████████████████████████████████████████████████████████████| 10/10 [00:00<00:00, 54.19it/s]\n",
      "100%|███████████████████████████████████████████████████████████████████████████| 10000/10000 [00:21<00:00, 473.58it/s]\n",
      "100%|██████████████████████████████████████████████████████████████████████████████████| 10/10 [00:00<00:00, 57.29it/s]\n",
      "100%|███████████████████████████████████████████████████████████████████████████| 10000/10000 [00:21<00:00, 473.09it/s]\n",
      "100%|██████████████████████████████████████████████████████████████████████████████████| 10/10 [00:00<00:00, 58.60it/s]\n",
      "100%|███████████████████████████████████████████████████████████████████████████| 10000/10000 [00:20<00:00, 479.33it/s]\n",
      "100%|██████████████████████████████████████████████████████████████████████████████████| 10/10 [00:00<00:00, 56.31it/s]\n",
      "100%|███████████████████████████████████████████████████████████████████████████| 10000/10000 [00:21<00:00, 475.87it/s]\n",
      "100%|██████████████████████████████████████████████████████████████████████████████████| 10/10 [00:00<00:00, 53.46it/s]\n",
      "100%|███████████████████████████████████████████████████████████████████████████| 10000/10000 [00:21<00:00, 465.93it/s]\n",
      "100%|██████████████████████████████████████████████████████████████████████████████████| 10/10 [00:00<00:00, 59.68it/s]\n",
      "100%|███████████████████████████████████████████████████████████████████████████| 10000/10000 [00:21<00:00, 463.03it/s]\n",
      "100%|██████████████████████████████████████████████████████████████████████████████████| 10/10 [00:00<00:00, 56.01it/s]\n",
      "100%|███████████████████████████████████████████████████████████████████████████| 10000/10000 [00:21<00:00, 459.08it/s]\n",
      "100%|██████████████████████████████████████████████████████████████████████████████████| 10/10 [00:00<00:00, 53.11it/s]\n",
      "100%|███████████████████████████████████████████████████████████████████████████| 10000/10000 [00:20<00:00, 478.45it/s]\n",
      "100%|██████████████████████████████████████████████████████████████████████████████████| 10/10 [00:00<00:00, 56.87it/s]\n"
     ]
    }
   ],
   "source": [
    "assignments, hist = k_means(images, 10, labels)"
   ]
  },
  {
   "cell_type": "code",
   "execution_count": 16,
   "metadata": {
    "id": "8p3ix0l4ajiN"
   },
   "outputs": [],
   "source": [
    "indices = get_indices_10(assignments)"
   ]
  },
  {
   "cell_type": "code",
   "execution_count": 19,
   "metadata": {
    "id": "hHQ9SA9EeWEe",
    "scrolled": true
   },
   "outputs": [
    {
     "data": {
      "text/plain": [
       "{0: 719, 1: 0, 2: 13, 3: 0, 4: 1, 5: 4, 6: 20, 7: 2, 8: 7, 9: 6}"
      ]
     },
     "execution_count": 19,
     "metadata": {},
     "output_type": "execute_result"
    }
   ],
   "source": [
    "digit_count(indices[0], labels)"
   ]
  },
  {
   "cell_type": "code",
   "execution_count": 20,
   "metadata": {
    "id": "Nuiah756fET2",
    "scrolled": true
   },
   "outputs": [
    {
     "data": {
      "text/plain": [
       "{0: 3, 1: 1102, 2: 133, 3: 52, 4: 27, 5: 84, 6: 40, 7: 67, 8: 72, 9: 23}"
      ]
     },
     "execution_count": 20,
     "metadata": {},
     "output_type": "execute_result"
    }
   ],
   "source": [
    "digit_count(indices[1], labels)"
   ]
  },
  {
   "cell_type": "code",
   "execution_count": 21,
   "metadata": {
    "id": "FChBTnQKfENN"
   },
   "outputs": [
    {
     "data": {
      "text/plain": [
       "{0: 1, 1: 23, 2: 725, 3: 32, 4: 0, 5: 2, 6: 5, 7: 14, 8: 11, 9: 2}"
      ]
     },
     "execution_count": 21,
     "metadata": {},
     "output_type": "execute_result"
    }
   ],
   "source": [
    "digit_count(indices[2], labels)"
   ]
  },
  {
   "cell_type": "code",
   "execution_count": 22,
   "metadata": {
    "id": "0vsEWECFfEIJ"
   },
   "outputs": [
    {
     "data": {
      "text/plain": [
       "{0: 53, 1: 3, 2: 41, 3: 690, 4: 0, 5: 280, 6: 4, 7: 0, 8: 107, 9: 7}"
      ]
     },
     "execution_count": 22,
     "metadata": {},
     "output_type": "execute_result"
    }
   ],
   "source": [
    "digit_count(indices[3], labels)"
   ]
  },
  {
   "cell_type": "code",
   "execution_count": 23,
   "metadata": {
    "id": "o6U4gRZ_fD0Z",
    "scrolled": false
   },
   "outputs": [
    {
     "data": {
      "text/plain": [
       "{0: 3, 1: 0, 2: 24, 3: 14, 4: 411, 5: 37, 6: 12, 7: 126, 8: 15, 9: 333}"
      ]
     },
     "execution_count": 23,
     "metadata": {},
     "output_type": "execute_result"
    }
   ],
   "source": [
    "digit_count(indices[4], labels)"
   ]
  },
  {
   "cell_type": "code",
   "execution_count": 24,
   "metadata": {
    "id": "hHQ9SA9EeWEe",
    "scrolled": true
   },
   "outputs": [
    {
     "data": {
      "text/plain": [
       "{0: 184, 1: 0, 2: 24, 3: 82, 4: 15, 5: 246, 6: 224, 7: 0, 8: 59, 9: 7}"
      ]
     },
     "execution_count": 24,
     "metadata": {},
     "output_type": "execute_result"
    }
   ],
   "source": [
    "digit_count(indices[5], labels)"
   ]
  },
  {
   "cell_type": "code",
   "execution_count": 25,
   "metadata": {
    "id": "Nuiah756fET2",
    "scrolled": true
   },
   "outputs": [
    {
     "data": {
      "text/plain": [
       "{0: 13, 1: 2, 2: 15, 3: 1, 4: 17, 5: 7, 6: 649, 7: 0, 8: 5, 9: 3}"
      ]
     },
     "execution_count": 25,
     "metadata": {},
     "output_type": "execute_result"
    }
   ],
   "source": [
    "digit_count(indices[6], labels)"
   ]
  },
  {
   "cell_type": "code",
   "execution_count": 26,
   "metadata": {
    "id": "FChBTnQKfENN"
   },
   "outputs": [
    {
     "data": {
      "text/plain": [
       "{0: 1, 1: 0, 2: 8, 3: 9, 4: 237, 5: 30, 6: 2, 7: 456, 8: 12, 9: 420}"
      ]
     },
     "execution_count": 26,
     "metadata": {},
     "output_type": "execute_result"
    }
   ],
   "source": [
    "digit_count(indices[7], labels)"
   ]
  },
  {
   "cell_type": "code",
   "execution_count": 27,
   "metadata": {
    "id": "0vsEWECFfEIJ"
   },
   "outputs": [
    {
     "data": {
      "text/plain": [
       "{0: 3, 1: 4, 2: 38, 3: 121, 4: 1, 5: 139, 6: 2, 7: 1, 8: 622, 9: 11}"
      ]
     },
     "execution_count": 27,
     "metadata": {},
     "output_type": "execute_result"
    }
   ],
   "source": [
    "digit_count(indices[8], labels)"
   ]
  },
  {
   "cell_type": "code",
   "execution_count": 28,
   "metadata": {
    "id": "o6U4gRZ_fD0Z",
    "scrolled": false
   },
   "outputs": [
    {
     "data": {
      "text/plain": [
       "{0: 0, 1: 1, 2: 11, 3: 9, 4: 273, 5: 63, 6: 0, 7: 362, 8: 64, 9: 197}"
      ]
     },
     "execution_count": 28,
     "metadata": {},
     "output_type": "execute_result"
    }
   ],
   "source": [
    "digit_count(indices[9], labels)"
   ]
  },
  {
   "cell_type": "code",
   "execution_count": null,
   "metadata": {},
   "outputs": [],
   "source": []
  }
 ],
 "metadata": {
  "colab": {
   "authorship_tag": "ABX9TyMIP73k4OUh6/OY4h0Nhxk+",
   "collapsed_sections": [],
   "name": "Zach Douglas HW2.ipynb",
   "provenance": []
  },
  "kernelspec": {
   "display_name": "Python 3",
   "language": "python",
   "name": "python3"
  },
  "language_info": {
   "codemirror_mode": {
    "name": "ipython",
    "version": 3
   },
   "file_extension": ".py",
   "mimetype": "text/x-python",
   "name": "python",
   "nbconvert_exporter": "python",
   "pygments_lexer": "ipython3",
   "version": "3.8.8"
  }
 },
 "nbformat": 4,
 "nbformat_minor": 1
}
